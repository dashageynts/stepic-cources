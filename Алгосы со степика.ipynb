{
 "cells": [
  {
   "cell_type": "code",
   "execution_count": 1,
   "metadata": {},
   "outputs": [
    {
     "name": "stdout",
     "output_type": "stream",
     "text": [
      "10\n",
      "3\n",
      "91\n"
     ]
    }
   ],
   "source": [
    "n = int(input())\n",
    "k = int(input())\n",
    "print(n**2 - k**2)"
   ]
  },
  {
   "cell_type": "code",
   "execution_count": 2,
   "metadata": {},
   "outputs": [
    {
     "name": "stdout",
     "output_type": "stream",
     "text": [
      "51\n",
      "6\n"
     ]
    }
   ],
   "source": [
    "n=int(input())\n",
    "\n",
    "k= n//13\n",
    "\n",
    "l= n//17\n",
    "\n",
    "f=n//(13*17)\n",
    "\n",
    "x=k+l-f\n",
    "\n",
    "print(x)"
   ]
  },
  {
   "cell_type": "code",
   "execution_count": 78,
   "metadata": {},
   "outputs": [
    {
     "name": "stdout",
     "output_type": "stream",
     "text": [
      "35\n",
      "22\n",
      "9\n"
     ]
    }
   ],
   "source": [
    "n = int(input()) # подарки\n",
    "k = int(input()) # дети\n",
    "if n <= k: # подарков меньше чем детей\n",
    "    print(k-n)\n",
    "elif n%k==0: # подарков больше чем детей\n",
    "    print(0)\n",
    "else:\n",
    "    print(k - (n-k))\n"
   ]
  },
  {
   "cell_type": "code",
   "execution_count": 41,
   "metadata": {},
   "outputs": [
    {
     "data": {
      "text/plain": [
       "2"
      ]
     },
     "execution_count": 41,
     "metadata": {},
     "output_type": "execute_result"
    }
   ],
   "source": [
    "11%9"
   ]
  },
  {
   "cell_type": "code",
   "execution_count": 42,
   "metadata": {},
   "outputs": [
    {
     "data": {
      "text/plain": [
       "9"
      ]
     },
     "execution_count": 42,
     "metadata": {},
     "output_type": "execute_result"
    }
   ],
   "source": [
    "9%11"
   ]
  },
  {
   "cell_type": "code",
   "execution_count": 71,
   "metadata": {},
   "outputs": [
    {
     "data": {
      "text/plain": [
       "13"
      ]
     },
     "execution_count": 71,
     "metadata": {},
     "output_type": "execute_result"
    }
   ],
   "source": [
    "35%22"
   ]
  },
  {
   "cell_type": "code",
   "execution_count": 81,
   "metadata": {},
   "outputs": [
    {
     "name": "stdout",
     "output_type": "stream",
     "text": [
      "22 35\n",
      "9\n"
     ]
    }
   ],
   "source": [
    "N, K = map(int, input().split())\n",
    "if(K % N == 0):\n",
    "    print(0)\n",
    "else:\n",
    "    print(N - (K%N))"
   ]
  },
  {
   "cell_type": "code",
   "execution_count": 84,
   "metadata": {},
   "outputs": [
    {
     "name": "stdout",
     "output_type": "stream",
     "text": [
      "1000 1 1000\n",
      "1000000\n"
     ]
    }
   ],
   "source": [
    "w, t, T = map(int, input().split())\n",
    "mg = w*((T + (t-1))//t)\n",
    "print(mg)"
   ]
  },
  {
   "cell_type": "code",
   "execution_count": 86,
   "metadata": {},
   "outputs": [
    {
     "data": {
      "text/plain": [
       "False"
      ]
     },
     "execution_count": 86,
     "metadata": {},
     "output_type": "execute_result"
    }
   ],
   "source": [
    "def is_prime(n):\n",
    "    d = 2\n",
    "    while n%d!=0 and d*d<=n:\n",
    "        d+=1\n",
    "    return d*d > n\n",
    "is_prime(278313)"
   ]
  },
  {
   "cell_type": "code",
   "execution_count": 98,
   "metadata": {},
   "outputs": [
    {
     "data": {
      "text/plain": [
       "24"
      ]
     },
     "execution_count": 98,
     "metadata": {},
     "output_type": "execute_result"
    }
   ],
   "source": [
    "def summ(n):\n",
    "    s = 0\n",
    "    while n >0:\n",
    "        s+= n%10\n",
    "        n = n//10\n",
    "    return s\n",
    "summ(278313)\n",
    "        "
   ]
  },
  {
   "cell_type": "code",
   "execution_count": 104,
   "metadata": {},
   "outputs": [
    {
     "name": "stdout",
     "output_type": "stream",
     "text": [
      "10\n",
      "1\n",
      "2\n",
      "5\n",
      "10\n"
     ]
    }
   ],
   "source": [
    "n = int(input())\n",
    "d = 1\n",
    "while d<=n:\n",
    "    if n%d==0:\n",
    "        print(d)\n",
    "    d+=1"
   ]
  },
  {
   "cell_type": "code",
   "execution_count": 113,
   "metadata": {},
   "outputs": [
    {
     "name": "stdout",
     "output_type": "stream",
     "text": [
      "123456789\n",
      "[1, 3, 9, 3607, 3803, 10821, 11409, 32463, 34227, 13717421, 41152263, 123456789]\n",
      "CPU times: total: 15.6 ms\n",
      "Wall time: 3.23 s\n"
     ]
    }
   ],
   "source": [
    "%%time\n",
    "n = int(input())\n",
    "d = 1\n",
    "lst = []\n",
    "while d<=n**(1/2):\n",
    "    if n%d==0:\n",
    "        lst.append(d)\n",
    "        if d!=n//d:\n",
    "            lst.append(n//d)\n",
    "    d+=1\n",
    "lst = sorted(lst)\n",
    "\n",
    "print(lst)    \n"
   ]
  },
  {
   "cell_type": "code",
   "execution_count": 128,
   "metadata": {},
   "outputs": [
    {
     "name": "stdout",
     "output_type": "stream",
     "text": [
      "100\n",
      "1 2 4 5 10 20 25 50 100 CPU times: total: 0 ns\n",
      "Wall time: 1.77 s\n"
     ]
    }
   ],
   "source": [
    "%%time\n",
    "n = int(input())\n",
    "lst = []\n",
    "for i in range(1, int(n**(1/2))+1):\n",
    "    if n%i==0:\n",
    "        lst.append(i)\n",
    "        if i!= n//i:\n",
    "            lst.append(n//i)\n",
    "lst = sorted(set(lst))\n",
    "for i in lst:\n",
    "    print(i, end = ' ')\n",
    "        "
   ]
  },
  {
   "cell_type": "code",
   "execution_count": 130,
   "metadata": {},
   "outputs": [
    {
     "name": "stdout",
     "output_type": "stream",
     "text": [
      "100000000000\n",
      "1 2 4 5 8 10 16 20 25 32 40 50 64 80 100 125 128 160 200 250 256 320 400 500 512 625 640 800 1000 1024 1250 1280 1600 2000 2048 2500 2560 3125 3200 4000 5000 5120 6250 6400 8000 10000 10240 12500 12800 15625 16000 20000 25000 25600 31250 32000 40000 50000 51200 62500 64000 78125 80000 100000 125000 128000 156250 160000 200000 250000 256000 312500 320000 390625 400000 500000 625000 640000 781250 800000 1000000 1250000 1280000 1562500 1600000 1953125 2000000 2500000 3125000 3200000 3906250 4000000 5000000 6250000 6400000 7812500 8000000 9765625 10000000 12500000 15625000 16000000 19531250 20000000 25000000 31250000 32000000 39062500 40000000 48828125 50000000 62500000 78125000 80000000 97656250 100000000 125000000 156250000 160000000 195312500 200000000 250000000 312500000 390625000 400000000 500000000 625000000 781250000 800000000 1000000000 1250000000 1562500000 2000000000 2500000000 3125000000 4000000000 5000000000 6250000000 10000000000 12500000000 20000000000 25000000000 50000000000 100000000000 CPU times: total: 141 ms\n",
      "Wall time: 12.3 s\n"
     ]
    }
   ],
   "source": [
    "%%time\n",
    "n = int(input())\n",
    "lst = []\n",
    "for i in range(1, int(n**(1/2))+1):\n",
    "    if n%i==0:\n",
    "        lst.append(i)\n",
    "        lst.append(n//i)\n",
    "lst = sorted(set(lst))\n",
    "for i in lst:\n",
    "    print(i, end = ' ')"
   ]
  },
  {
   "cell_type": "code",
   "execution_count": 147,
   "metadata": {},
   "outputs": [
    {
     "name": "stdout",
     "output_type": "stream",
     "text": [
      "False\n"
     ]
    }
   ],
   "source": [
    "def is_prime(n):\n",
    "    d = 2\n",
    "    while n%d!=0 and d*d<=n:\n",
    "        d+=1\n",
    "    return d*d >n\n",
    "print(is_prime(12))"
   ]
  },
  {
   "cell_type": "code",
   "execution_count": 143,
   "metadata": {},
   "outputs": [
    {
     "name": "stdout",
     "output_type": "stream",
     "text": [
      "256\n",
      "1 2 4 8 16 32 64 128 256\n",
      "CPU times: total: 31.2 ms\n",
      "Wall time: 2.11 s\n"
     ]
    }
   ],
   "source": [
    "%%time\n",
    "n = int(input())\n",
    "lst = []\n",
    "for i in range(1, int(n**(1/2))+1):\n",
    "    if n%i==0:\n",
    "        lst.append(i)\n",
    "        lst.append(n//i)\n",
    "lst = sorted(set(lst))\n",
    "print(*lst)"
   ]
  },
  {
   "cell_type": "code",
   "execution_count": 141,
   "metadata": {},
   "outputs": [
    {
     "data": {
      "text/plain": [
       "[1, 2, 5]"
      ]
     },
     "execution_count": 141,
     "metadata": {},
     "output_type": "execute_result"
    }
   ],
   "source": [
    "list(filter(is_prime, lst))"
   ]
  },
  {
   "cell_type": "code",
   "execution_count": 144,
   "metadata": {},
   "outputs": [
    {
     "name": "stdout",
     "output_type": "stream",
     "text": [
      "24\n",
      "2 3\n"
     ]
    }
   ],
   "source": [
    "def is_prime(n):\n",
    "    d = 2\n",
    "    while n % d != 0 and d * d <= n:\n",
    "        d += 1\n",
    "    return d * d > n\n",
    "\n",
    "N = int(input())\n",
    "i = 2\n",
    "p = []\n",
    "while i <= N:\n",
    "    if N % i == 0:\n",
    "        if is_prime(i):\n",
    "            p.append(i)\n",
    "    i += 1\n",
    "print(*p)"
   ]
  },
  {
   "cell_type": "code",
   "execution_count": 149,
   "metadata": {},
   "outputs": [
    {
     "name": "stdout",
     "output_type": "stream",
     "text": [
      "43\n",
      "43 "
     ]
    }
   ],
   "source": [
    "def is_prime(n):\n",
    "    d = 2\n",
    "    while n % d:\n",
    "        d += 1\n",
    "    return d == n\n",
    "\n",
    "n = int(input())\n",
    "for d in range(2,n+1):\n",
    "    if is_prime(d) and n % d == 0:\n",
    "        print(d,end=' ')"
   ]
  },
  {
   "cell_type": "code",
   "execution_count": 148,
   "metadata": {},
   "outputs": [
    {
     "data": {
      "text/plain": [
       "True"
      ]
     },
     "execution_count": 148,
     "metadata": {},
     "output_type": "execute_result"
    }
   ],
   "source": [
    "is_prime(999999391)"
   ]
  },
  {
   "cell_type": "code",
   "execution_count": 151,
   "metadata": {},
   "outputs": [
    {
     "name": "stdout",
     "output_type": "stream",
     "text": [
      "999999391\n",
      "999999391\n",
      "CPU times: total: 31.2 ms\n",
      "Wall time: 1.73 s\n"
     ]
    }
   ],
   "source": [
    "%%time\n",
    "def is_prime(n):\n",
    "    d = 2\n",
    "    while n%d!=0 and d*d<=n:\n",
    "        d+=1\n",
    "    return d*d >n\n",
    "n = int(input())\n",
    "lst = []\n",
    "for i in range(2, int(n**(1/2))+1):\n",
    "    if n%i==0:\n",
    "        lst.append(i)\n",
    "        lst.append(n//i)\n",
    "if is_prime(n) == True:\n",
    "    lst.append(n)\n",
    "lst = sorted(set(lst))\n",
    "print(*list(filter(is_prime, lst)))"
   ]
  },
  {
   "cell_type": "code",
   "execution_count": 2,
   "metadata": {},
   "outputs": [
    {
     "data": {
      "text/plain": [
       "[2, 3, 3, 149]"
      ]
     },
     "execution_count": 2,
     "metadata": {},
     "output_type": "execute_result"
    }
   ],
   "source": [
    "def f(n):\n",
    "    p = []\n",
    "    d = 2\n",
    "    while d*d <= n:\n",
    "        if n%d==0:\n",
    "            p.append(d)\n",
    "            n = n//d\n",
    "        else:\n",
    "            d+=1\n",
    "    p.append(n)\n",
    "    return p\n",
    "f(2682)"
   ]
  },
  {
   "cell_type": "markdown",
   "metadata": {},
   "source": [
    "# Поиск наибольшей степени простого делителя числа"
   ]
  },
  {
   "cell_type": "code",
   "execution_count": 25,
   "metadata": {},
   "outputs": [
    {
     "name": "stdout",
     "output_type": "stream",
     "text": [
      "5000\n"
     ]
    },
    {
     "data": {
      "text/plain": [
       "[2, 2, 2, 5, 5, 5, 5]"
      ]
     },
     "execution_count": 25,
     "metadata": {},
     "output_type": "execute_result"
    }
   ],
   "source": [
    "def f(n):\n",
    "    p = []\n",
    "    while n%2==0:\n",
    "        p.append(2)\n",
    "        n = n//2\n",
    "    d = 3\n",
    "    while d*d <=n:\n",
    "        if n%d==0:\n",
    "            p.append(d)\n",
    "            n = n//d\n",
    "        else:\n",
    "            d+=2\n",
    "    if n>1:\n",
    "        p.append(n)\n",
    "    return p\n",
    "lst = f(int(input()))\n",
    "lst"
   ]
  },
  {
   "cell_type": "code",
   "execution_count": 27,
   "metadata": {},
   "outputs": [
    {
     "data": {
      "text/plain": [
       "4"
      ]
     },
     "execution_count": 27,
     "metadata": {},
     "output_type": "execute_result"
    }
   ],
   "source": [
    "# Считаем число вхождений в список самого частовречающегоя элемента\n",
    "lst.count(max(set(lst), key = lst.count))"
   ]
  },
  {
   "cell_type": "markdown",
   "metadata": {},
   "source": [
    "# Степень, с которой самый маленький простой делитель входит в число"
   ]
  },
  {
   "cell_type": "code",
   "execution_count": 50,
   "metadata": {},
   "outputs": [
    {
     "name": "stdout",
     "output_type": "stream",
     "text": [
      "72\n"
     ]
    },
    {
     "data": {
      "text/plain": [
       "[2, 2, 2, 3, 3]"
      ]
     },
     "execution_count": 50,
     "metadata": {},
     "output_type": "execute_result"
    }
   ],
   "source": [
    "def f(n):\n",
    "    p = []\n",
    "    while n%2==0:\n",
    "        p.append(2)\n",
    "        n = n//2\n",
    "    d = 3\n",
    "    while d*d <=n:\n",
    "        if n%d==0:\n",
    "            p.append(d)\n",
    "            n = n//d\n",
    "        else:\n",
    "            d+=2\n",
    "    if n>1:\n",
    "        p.append(n)\n",
    "    return p\n",
    "lst = f(int(input()))\n",
    "lst"
   ]
  },
  {
   "cell_type": "code",
   "execution_count": 52,
   "metadata": {},
   "outputs": [
    {
     "data": {
      "text/plain": [
       "2"
      ]
     },
     "execution_count": 52,
     "metadata": {},
     "output_type": "execute_result"
    }
   ],
   "source": [
    "# Число вхождений минимального/ максимального элемента списка\n",
    "lst.count(max(lst))\n",
    "#lst.count(min(lst))"
   ]
  },
  {
   "cell_type": "markdown",
   "metadata": {},
   "source": [
    "# Каноническая форма"
   ]
  },
  {
   "cell_type": "code",
   "execution_count": 94,
   "metadata": {},
   "outputs": [
    {
     "name": "stdout",
     "output_type": "stream",
     "text": [
      "100\n"
     ]
    },
    {
     "data": {
      "text/plain": [
       "[2, 2, 5, 5]"
      ]
     },
     "execution_count": 94,
     "metadata": {},
     "output_type": "execute_result"
    }
   ],
   "source": [
    "def f(n):\n",
    "    p = []\n",
    "    while n%2==0:\n",
    "        p.append(2)\n",
    "        n = n//2\n",
    "    d = 3\n",
    "    while d*d <=n:\n",
    "        if n%d==0:\n",
    "            p.append(d)\n",
    "            n = n//d\n",
    "        else:\n",
    "            d+=2\n",
    "    if n>1:\n",
    "        p.append(n)\n",
    "    return p\n",
    "lst = f(int(input()))\n",
    "lst"
   ]
  },
  {
   "cell_type": "code",
   "execution_count": 95,
   "metadata": {},
   "outputs": [
    {
     "name": "stdout",
     "output_type": "stream",
     "text": [
      "2 2\n",
      "5 2\n"
     ]
    }
   ],
   "source": [
    "for i in set(lst):\n",
    "    print(i, lst.count(i))"
   ]
  },
  {
   "cell_type": "code",
   "execution_count": 101,
   "metadata": {},
   "outputs": [
    {
     "name": "stdout",
     "output_type": "stream",
     "text": [
      "2589376049544\n",
      "[2, 2, 2, 3, 19, 5678456249]\n",
      "5678456249\n",
      "CPU times: total: 46.9 ms\n",
      "Wall time: 1.46 s\n"
     ]
    }
   ],
   "source": [
    "%%time\n",
    "def f(n):\n",
    "    p = []\n",
    "    while n%2==0:\n",
    "        p.append(2)\n",
    "        n = n//2\n",
    "    d = 3\n",
    "    while d*d <=n:\n",
    "        if n%d==0:\n",
    "            p.append(d)\n",
    "            n = n//d\n",
    "        else:\n",
    "            d+=2\n",
    "    if n>1:\n",
    "        p.append(n)\n",
    "    return p\n",
    "lst = f(int(input()))\n",
    "print(lst)\n",
    "print(max(lst))"
   ]
  },
  {
   "cell_type": "markdown",
   "metadata": {},
   "source": [
    "# Простой делитель больший $ 10^6$"
   ]
  },
  {
   "cell_type": "code",
   "execution_count": 100,
   "metadata": {},
   "outputs": [
    {
     "name": "stdout",
     "output_type": "stream",
     "text": [
      "2589376049544\n",
      "5678456249\n",
      "CPU times: total: 609 ms\n",
      "Wall time: 2.29 s\n"
     ]
    }
   ],
   "source": [
    "%%time\n",
    "n = int(input())\n",
    "d = 2\n",
    "while d<=10**6:\n",
    "    if n%d==0:\n",
    "        n = n//d\n",
    "    else:\n",
    "        d+=1\n",
    "print(n)"
   ]
  },
  {
   "cell_type": "markdown",
   "metadata": {},
   "source": [
    "# Решето Эратосфена"
   ]
  },
  {
   "cell_type": "code",
   "execution_count": 125,
   "metadata": {},
   "outputs": [
    {
     "name": "stdout",
     "output_type": "stream",
     "text": [
      "89\n",
      "97\n",
      "101\n",
      "103\n",
      "107\n",
      "109\n"
     ]
    }
   ],
   "source": [
    "n = 112\n",
    "is_prime = [True]*(n+1)\n",
    "d = 2\n",
    "while d*d <=n:\n",
    "    if is_prime[d]:\n",
    "        for i in range(d**2, n+1, d):\n",
    "            is_prime[i] = False\n",
    "    d+=1\n",
    "for i in range(89, 113):\n",
    "    if is_prime[i]:\n",
    "        print(i)\n",
    "               "
   ]
  },
  {
   "cell_type": "markdown",
   "metadata": {},
   "source": [
    "# Простые числа на отрезке"
   ]
  },
  {
   "cell_type": "code",
   "execution_count": 175,
   "metadata": {},
   "outputs": [
    {
     "name": "stdout",
     "output_type": "stream",
     "text": [
      "2\n",
      "30\n",
      "2 3 5 7 11 13 17 19 23 29\n",
      "CPU times: total: 0 ns\n",
      "Wall time: 1.72 s\n"
     ]
    }
   ],
   "source": [
    "%%time\n",
    "l = int(input())\n",
    "r = int(input())\n",
    "is_prime = [True]*(r+1)\n",
    "d = 2\n",
    "while d*d <=r:\n",
    "    if is_prime[d]:\n",
    "        for i in range(d**2, r+1, d):\n",
    "            is_prime[i] = False\n",
    "    d+=1\n",
    "lst = []\n",
    "for i in range(l,r+1):\n",
    "    if is_prime[i]:\n",
    "        lst.append(i)\n",
    "if len(lst) == 0:\n",
    "    print('empty')\n",
    "else:\n",
    "    print(*lst)"
   ]
  },
  {
   "cell_type": "markdown",
   "metadata": {},
   "source": [
    "# Простые числа близнецы ((11, 13); (17, 19)) на отрезке"
   ]
  },
  {
   "cell_type": "code",
   "execution_count": 202,
   "metadata": {},
   "outputs": [
    {
     "name": "stdout",
     "output_type": "stream",
     "text": [
      "2\n",
      "4\n",
      "empty\n"
     ]
    }
   ],
   "source": [
    "l = int(input())\n",
    "r = int(input())\n",
    "is_prime = [True]*(r+1)\n",
    "d = 2\n",
    "while d*d <=r:\n",
    "    if is_prime[d]:\n",
    "        for i in range(d**2, r+1, d):\n",
    "            is_prime[i] = False\n",
    "    d+=1\n",
    "lst = []\n",
    "f = True\n",
    "for i in range(l,r+1):\n",
    "    if is_prime[i]:\n",
    "        lst.append(i)\n",
    "for i in range(1,len(lst)):\n",
    "    if lst[i] -lst[i-1] == 2:\n",
    "        print(lst[i-1], lst[i])\n",
    "        f = False\n",
    "if f == True:\n",
    "    print('empty')\n",
    "\n",
    "\n",
    "\n"
   ]
  },
  {
   "cell_type": "markdown",
   "metadata": {},
   "source": [
    "# Самый маленький простой делитель для каждого числа из отрезка"
   ]
  },
  {
   "cell_type": "code",
   "execution_count": 247,
   "metadata": {},
   "outputs": [
    {
     "name": "stdout",
     "output_type": "stream",
     "text": [
      "7 15\n",
      "7 2 3 2 11 2 13 2 3 "
     ]
    }
   ],
   "source": [
    "def prime_f(n):\n",
    "    if n%2 == 0: \n",
    "        return 2\n",
    "    i = 3\n",
    "    while n%i != 0 and i*i <= n:\n",
    "        i+= 2\n",
    "    if i*i <= n: \n",
    "        return i\n",
    "    return n\n",
    "l, r = map(int, input().split())\n",
    "for i in range(l, r+1):\n",
    "    print(prime_f(i), end = ' ')"
   ]
  },
  {
   "cell_type": "code",
   "execution_count": 24,
   "metadata": {},
   "outputs": [
    {
     "name": "stdout",
     "output_type": "stream",
     "text": [
      "7 15\n",
      "7 2 3 2 11 2 13 2 3\n"
     ]
    }
   ],
   "source": [
    "L, R = map(int,input().split())\n",
    "is_prime = [True] * (R + 1)\n",
    "d = 2\n",
    "while d * d <= R:\n",
    "    if is_prime[d] == True:\n",
    "        for i in range(d ** 2, R + 1, d):\n",
    "            if is_prime[i] == True:\n",
    "                is_prime[i] = d\n",
    "    d += 1\n",
    "p = []\n",
    "for i in range(L, R + 1):\n",
    "    if  is_prime[i] != True:\n",
    "        p.append(is_prime[i])\n",
    "    else:\n",
    "        p.append(i)\n",
    "print(*p)"
   ]
  },
  {
   "cell_type": "code",
   "execution_count": 30,
   "metadata": {},
   "outputs": [
    {
     "name": "stdout",
     "output_type": "stream",
     "text": [
      "7 15\n"
     ]
    },
    {
     "data": {
      "text/plain": [
       "[True, True, True, True, 2, True, 2, True, 2, 3, 2, True, 2, True, 2, 3]"
      ]
     },
     "execution_count": 30,
     "metadata": {},
     "output_type": "execute_result"
    }
   ],
   "source": [
    "L, R = map(int,input().split())\n",
    "is_prime = [True] * (R + 1)\n",
    "d = 2\n",
    "while d * d <= R:\n",
    "    if is_prime[d] == True: # если делитель - простое число\n",
    "        for i in range(d ** 2, R + 1, d): # перебор от корня до конца с шагом = делителю\n",
    "            if is_prime[i] == True: # если на предыдущих шагах мы еще не заменили число на наименьший делитель\n",
    "                is_prime[i] = d # присваиваем числу его минимальный делитель\n",
    "    d += 1\n",
    "is_prime"
   ]
  },
  {
   "cell_type": "markdown",
   "metadata": {},
   "source": [
    "# Самый большой простой делитель для каждого числа из отрезка"
   ]
  },
  {
   "cell_type": "code",
   "execution_count": 256,
   "metadata": {},
   "outputs": [
    {
     "name": "stdout",
     "output_type": "stream",
     "text": [
      "7 15\n",
      "7 2 3 5 11 3 13 7 5 "
     ]
    }
   ],
   "source": [
    "# программа не прошла проверку по времени\n",
    "def f(n):\n",
    "    p = []\n",
    "    while n%2==0:\n",
    "        p.append(2)\n",
    "        n = n//2\n",
    "    d = 3\n",
    "    while d*d <=n:\n",
    "        if n%d==0:\n",
    "            p.append(d)\n",
    "            n = n//d\n",
    "        else:\n",
    "            d+=2\n",
    "    if n>1:\n",
    "        p.append(n)\n",
    "    return max(p)\n",
    "l, r = map(int, input().split())\n",
    "for i in range(l, r+1):\n",
    "    print(f(i), end = ' ')"
   ]
  },
  {
   "cell_type": "markdown",
   "metadata": {},
   "source": [
    "## Гениальная вещь"
   ]
  },
  {
   "cell_type": "code",
   "execution_count": 1,
   "metadata": {},
   "outputs": [
    {
     "name": "stdout",
     "output_type": "stream",
     "text": [
      "7 15\n",
      "7 2 3 5 11 3 13 7 5\n"
     ]
    }
   ],
   "source": [
    "END = 5 * 10 ** 5 + 2\n",
    "is_prime = list(range(END)) # здесь, в отл-е от пред-х задач, решето заполняем числами, а не знач True\n",
    "p = 2 \n",
    "\n",
    "while p < END:\n",
    "    if is_prime[p] == p: # если делитель простой\n",
    "        for i in range(p * 2, END, p): # от 2p до end с шагом p (почему так смотри тетрадь)\n",
    "            is_prime[i] = p # присваиваем каждому числу значение p\n",
    "    p += 1\n",
    "\n",
    "L, R = map(int, input().split())\n",
    "print(*is_prime[L:R + 1])"
   ]
  },
  {
   "cell_type": "markdown",
   "metadata": {},
   "source": [
    "# Наибольший общий делитель (алгоритм Евклида)"
   ]
  },
  {
   "cell_type": "code",
   "execution_count": 10,
   "metadata": {},
   "outputs": [
    {
     "name": "stdout",
     "output_type": "stream",
     "text": [
      "12 16\n",
      "4\n"
     ]
    }
   ],
   "source": [
    "def gcd(a,b):\n",
    "    while b!=0:\n",
    "        a, b = b, a%b\n",
    "    return a\n",
    "m, n = map(int, input().split())\n",
    "print(gcd(m,n))"
   ]
  },
  {
   "cell_type": "markdown",
   "metadata": {},
   "source": [
    "# Наименьшее общее кратное"
   ]
  },
  {
   "cell_type": "markdown",
   "metadata": {},
   "source": [
    "$НОК(a,b)*НОД(a,b) = a*b \\rightarrow НОК(a,b) = \\large \\frac{a*b}{НОД(a,b)}$"
   ]
  },
  {
   "cell_type": "code",
   "execution_count": 19,
   "metadata": {},
   "outputs": [
    {
     "name": "stdout",
     "output_type": "stream",
     "text": [
      "2 4\n",
      "4\n"
     ]
    }
   ],
   "source": [
    "def gcd(a,b):\n",
    "    while b!=0:\n",
    "        a, b = b, a%b\n",
    "    return a\n",
    "m, n = map(int, input().split())\n",
    "print(m*n//gcd(m,n))"
   ]
  },
  {
   "cell_type": "markdown",
   "metadata": {},
   "source": [
    "# НОД для нескольких чисел"
   ]
  },
  {
   "cell_type": "code",
   "execution_count": 34,
   "metadata": {},
   "outputs": [
    {
     "name": "stdout",
     "output_type": "stream",
     "text": [
      "5\n",
      "147 168 231 306327 2121\n"
     ]
    },
    {
     "data": {
      "text/plain": [
       "21"
      ]
     },
     "execution_count": 34,
     "metadata": {},
     "output_type": "execute_result"
    }
   ],
   "source": [
    "n = int(input())\n",
    "def gcd(a,b):\n",
    "    while b!=0:\n",
    "        a, b = b, a%b\n",
    "    return a\n",
    "\n",
    "st = map(int, input().split(maxsplit=n-1))\n",
    "lst = list(st)\n",
    "nod = lst[0]\n",
    "for i in range(1,len(lst)):\n",
    "    nod = gcd(nod, lst[i])\n",
    "print(nod)"
   ]
  },
  {
   "cell_type": "code",
   "execution_count": 59,
   "metadata": {},
   "outputs": [],
   "source": [
    "first = (0,0)\n",
    "second = (-1001, 858)\n",
    "k = second[1]/second[0]\n",
    "c = 2\n",
    "for i in range(1, second[0]):\n",
    "    print(k*i)"
   ]
  },
  {
   "cell_type": "code",
   "execution_count": 60,
   "metadata": {},
   "outputs": [
    {
     "data": {
      "text/plain": [
       "143"
      ]
     },
     "execution_count": 60,
     "metadata": {},
     "output_type": "execute_result"
    }
   ],
   "source": [
    "gcd(-1001, 858)"
   ]
  },
  {
   "cell_type": "code",
   "execution_count": 103,
   "metadata": {},
   "outputs": [
    {
     "name": "stdout",
     "output_type": "stream",
     "text": [
      "0 0\n",
      "-2304 -1792\n"
     ]
    },
    {
     "data": {
      "text/plain": [
       "257"
      ]
     },
     "execution_count": 103,
     "metadata": {},
     "output_type": "execute_result"
    }
   ],
   "source": [
    "a1, a2 = map(int, input().split())\n",
    "b1, b2 = map(int, input().split())\n",
    "c = 2\n",
    "def gcd(a,b):\n",
    "    while b!=0:\n",
    "        a, b = b, a%b\n",
    "    return a\n",
    "gcd(abs(a1-b1), abs(a2-b2))+1"
   ]
  },
  {
   "cell_type": "code",
   "execution_count": 90,
   "metadata": {},
   "outputs": [
    {
     "name": "stdout",
     "output_type": "stream",
     "text": [
      "0 0\n",
      "-2304 -1792\n"
     ]
    },
    {
     "data": {
      "text/plain": [
       "256"
      ]
     },
     "execution_count": 90,
     "metadata": {},
     "output_type": "execute_result"
    }
   ],
   "source": [
    "a1, a2 = map(int, input().split())\n",
    "b1, b2 = map(int, input().split())\n",
    "k = b2/b1\n",
    "c = 0\n",
    "for i in range(min(a1, b1), max(a1,b1+1)):\n",
    "    s = str(k*i)\n",
    "    #print(s)\n",
    "    if int(s[-1])==0:\n",
    "        c+=1\n",
    "c\n",
    "\n",
    "    "
   ]
  },
  {
   "cell_type": "code",
   "execution_count": 100,
   "metadata": {},
   "outputs": [
    {
     "name": "stdout",
     "output_type": "stream",
     "text": [
      "0 0\n",
      "-1001 858\n",
      "104\n"
     ]
    }
   ],
   "source": [
    "a1, a2 = map(int, input().split())\n",
    "b1, b2 = map(int, input().split())\n",
    "def gcd(a,b):\n",
    "    while b!=0:\n",
    "        a, b = b, a%b\n",
    "    return a\n",
    "\n",
    "c = 0\n",
    "n = gcd(abs(a2-a1), abs(b2-a1))\n",
    "dx = (a2 - a1)/n\n",
    "dy = (b2 - b1)/n\n",
    "for i in range(n+1):\n",
    "    if a1 + dx*i == int(a1 + dx*i) and a2 + dy*i == int(a2 + dy*i):\n",
    "        c+=1\n",
    "print(c)\n",
    "    "
   ]
  },
  {
   "cell_type": "code",
   "execution_count": 96,
   "metadata": {},
   "outputs": [
    {
     "data": {
      "text/plain": [
       "True"
      ]
     },
     "execution_count": 96,
     "metadata": {},
     "output_type": "execute_result"
    }
   ],
   "source": [
    "int(4/2) == 4/2"
   ]
  },
  {
   "cell_type": "code",
   "execution_count": null,
   "metadata": {},
   "outputs": [],
   "source": [
    "print(a1 + dx*i, a2 + dy*i)"
   ]
  },
  {
   "cell_type": "code",
   "execution_count": 101,
   "metadata": {},
   "outputs": [
    {
     "name": "stdout",
     "output_type": "stream",
     "text": [
      "0 0\n",
      "4 6\n"
     ]
    },
    {
     "data": {
      "text/plain": [
       "(0.0, 0.3333333333333333)"
      ]
     },
     "execution_count": 101,
     "metadata": {},
     "output_type": "execute_result"
    }
   ],
   "source": [
    "a1, a2 = map(int, input().split())\n",
    "b1, b2 = map(int, input().split())\n",
    "def gcd(a,b):\n",
    "    while b!=0:\n",
    "        a, b = b, a%b\n",
    "    return a\n",
    "\n",
    "c = 0\n",
    "n = gcd(abs(a2-a1), abs(b2-a1))\n",
    "dx = (a2 - a1)/n\n",
    "dy = (b2 - b1)/n\n",
    "dx,dy"
   ]
  },
  {
   "cell_type": "markdown",
   "metadata": {},
   "source": [
    "# Итоговый контест"
   ]
  },
  {
   "cell_type": "code",
   "execution_count": 50,
   "metadata": {},
   "outputs": [
    {
     "name": "stdout",
     "output_type": "stream",
     "text": [
      "100 1 777\n",
      "8 77\n"
     ]
    }
   ],
   "source": [
    "# N - этажей; K - квартир на этаже; A -  искомая квартира\n",
    "N, K, A = map(int, input().split(maxsplit=2))\n",
    "p = (A + K*N-1)//(K*N) # номер подъезда\n",
    "f = (A-1)%(N*K)//K+1\n",
    "print(p, f)"
   ]
  },
  {
   "cell_type": "code",
   "execution_count": 63,
   "metadata": {},
   "outputs": [
    {
     "name": "stdout",
     "output_type": "stream",
     "text": [
      "64\n"
     ]
    },
    {
     "data": {
      "text/plain": [
       "2"
      ]
     },
     "execution_count": 63,
     "metadata": {},
     "output_type": "execute_result"
    }
   ],
   "source": [
    "N = int(input())\n",
    "n = round(N**(1/3))\n",
    "p = []\n",
    "while n%2==0:\n",
    "    p.append(2)\n",
    "    n = n//2\n",
    "d = 3\n",
    "while d*d<=n:\n",
    "    if n%d==0:\n",
    "        p.append(d)\n",
    "        n = n//d\n",
    "    else:\n",
    "        d+=2\n",
    "if n>1:\n",
    "    p.append(n)\n",
    "max(p)"
   ]
  },
  {
   "cell_type": "markdown",
   "metadata": {},
   "source": [
    "## Самый большой квадрат-делитель"
   ]
  },
  {
   "cell_type": "code",
   "execution_count": 1,
   "metadata": {},
   "outputs": [
    {
     "name": "stdout",
     "output_type": "stream",
     "text": [
      "972\n",
      "324\n"
     ]
    }
   ],
   "source": [
    "n = int(input())\n",
    "res = 1\n",
    "while n%4 == 0: # проверку начинаем с наименьшего квадрата-делителя\n",
    "    res *= 4 # пока N кратно 4 умножаем результат на 4\n",
    "    n //= 4 # и делим N на 4\n",
    "    \n",
    "''' если N кратно 2, но не кратно 4, то N//2 - нечетное'''\n",
    "\n",
    "if n%2 == 0: # если N четное\n",
    "    n //= 2 # делим его на 2\n",
    "    \n",
    "'''далее мы оперируем только нечетными числами'''\n",
    "\n",
    "i = 3 # теперь проверяем делители с 3\n",
    "k = i*i # возводим в квадрат\n",
    "while k*i <= n: # пока i^3 <=n\n",
    "    while n%k == 0: # тоже самое, что и с 4\n",
    "        res *= k\n",
    "        n //= k\n",
    "    if n%i == 0: # а делится ли это число на еще больший квадрат?\n",
    "        n //= i\n",
    "    i += 2 # в противном случае \n",
    "    k = i*i\n",
    "if int(n**0.5)**2 == n: # если число n явл-ся квадратом\n",
    "    res *= n\n",
    "print(res)"
   ]
  },
  {
   "cell_type": "markdown",
   "metadata": {},
   "source": [
    "## НОД двух чисел, состоящих из одних единиц"
   ]
  },
  {
   "cell_type": "code",
   "execution_count": 113,
   "metadata": {},
   "outputs": [
    {
     "name": "stdout",
     "output_type": "stream",
     "text": [
      "4 6\n",
      "11\n"
     ]
    }
   ],
   "source": [
    "def gcd(m,n):\n",
    "    m = int('1'*m)\n",
    "    n = int('1'*n)\n",
    "    while n!=0:\n",
    "        m,n = n, m%n\n",
    "    return m\n",
    "a,b = map(int, input().split())\n",
    "print(gcd(a,b))"
   ]
  },
  {
   "cell_type": "markdown",
   "metadata": {},
   "source": [
    "## Кол-во простых делителей для каждого числа из промежутка"
   ]
  },
  {
   "cell_type": "code",
   "execution_count": 163,
   "metadata": {},
   "outputs": [
    {
     "name": "stdout",
     "output_type": "stream",
     "text": [
      "25 32\n",
      "1 2 1 2 1 3 1 1\n"
     ]
    }
   ],
   "source": [
    "l, r = map(int, input().split())\n",
    "def prime(n):\n",
    "    is_prime = [0]*(n+1)\n",
    "    d = 2\n",
    "    while d <= n:\n",
    "        if is_prime[d]==0:\n",
    "            for i in range(d, n+1, d):\n",
    "                is_prime[i]+=1\n",
    "        d+=1\n",
    "    return is_prime[l:]\n",
    "print(*prime(r))"
   ]
  },
  {
   "cell_type": "code",
   "execution_count": 137,
   "metadata": {},
   "outputs": [
    {
     "name": "stdout",
     "output_type": "stream",
     "text": [
      "25 32\n",
      "1 2 1 2 1 3 1 1 "
     ]
    }
   ],
   "source": [
    "l, r = map(int, input().split())\n",
    "def f(n):\n",
    "    p = []\n",
    "    while n%2==0:\n",
    "        p.append(2)\n",
    "        n = n//2\n",
    "    d = 3\n",
    "    while d*d <=n:\n",
    "        if n%d==0:\n",
    "            p.append(d)\n",
    "            n = n//d\n",
    "        else:\n",
    "            d+=2\n",
    "    if n>1:\n",
    "        p.append(n)\n",
    "    return len(set(p))\n",
    "for i in range(l, r+1):\n",
    "    print(f(i), end = ' ')"
   ]
  },
  {
   "cell_type": "markdown",
   "metadata": {},
   "source": [
    "# Бинарный поиск"
   ]
  },
  {
   "cell_type": "markdown",
   "metadata": {},
   "source": [
    "## Задача"
   ]
  },
  {
   "cell_type": "code",
   "execution_count": 8,
   "metadata": {},
   "outputs": [
    {
     "data": {
      "text/plain": [
       "5"
      ]
     },
     "execution_count": 8,
     "metadata": {},
     "output_type": "execute_result"
    }
   ],
   "source": [
    "'''upper_bound возвращает минимальное i, при котором A[i] > key\n",
    "индекс элемента, следующий за заданным в упорядоченном массиве'''\n",
    "\n",
    "def upper_bound(A, key):\n",
    "    left = -1   # фиктивные элементы\n",
    "    right = len(A)\n",
    "    while right > left +1:\n",
    "        middle = (left + right) //2\n",
    "        if A[middle] > key: # поэтому граница строгая ^\n",
    "            right = middle                           #|\n",
    "        else:\n",
    "            left = middle\n",
    "    return right\n",
    "upper_bound([1,2,3,3,3,4,5], 3)"
   ]
  },
  {
   "cell_type": "code",
   "execution_count": 5,
   "metadata": {},
   "outputs": [
    {
     "data": {
      "text/plain": [
       "2"
      ]
     },
     "execution_count": 5,
     "metadata": {},
     "output_type": "execute_result"
    }
   ],
   "source": [
    "'''lower_bound возвращает минимальное i, при котором A[i] >= key'''\n",
    "'''индекс первого вхождения элемента key в массив A'''\n",
    "\n",
    "def lower_bound(A, key): # поиск нижней границы\n",
    "    left = -1\n",
    "    right = len(A)\n",
    "    while right > left + 1:\n",
    "        middle = (left + right)//2\n",
    "        if A[middle] >=key:\n",
    "            right = middle\n",
    "        else:\n",
    "            left = middle\n",
    "    return right\n",
    "lower_bound([1,2,3,3,3,4,5], 3)\n",
    "            \n",
    "    "
   ]
  },
  {
   "attachments": {
    "image.png": {
     "image/png": "[encoded data removed]"
    }
   },
   "cell_type": "markdown",
   "metadata": {},
   "source": [
    "![image.png](attachment:image.png)"
   ]
  },
  {
   "cell_type": "code",
   "execution_count": 9,
   "metadata": {},
   "outputs": [
    {
     "name": "stdout",
     "output_type": "stream",
     "text": [
      "10 5\n",
      "1 1 3 3 5 7 9 18 18 57\n",
      "57 3 9 1 179\n",
      "10 10\n",
      "3 4\n",
      "7 7\n",
      "1 2\n",
      "0\n"
     ]
    }
   ],
   "source": [
    "''' теперь для каждого числа из второго списка определим номер первого и последнего появления'''\n",
    "n, k = map(int, input().split())\n",
    "A = list(map(int, input().split()))\n",
    "B = list(map(int, input().split()))\n",
    "for i in range(len(B)):\n",
    "    lb = lower_bound(A, B[i])\n",
    "    if lb < len(A) and A[lb] == B[i]:\n",
    "        print(lb+1, upper_bound(A, B[i]))\n",
    "    else:\n",
    "        print(0)"
   ]
  },
  {
   "cell_type": "markdown",
   "metadata": {},
   "source": [
    "**Функция задана таким образом, что возвращает именно номер, а не индекс (lb + 1)**"
   ]
  },
  {
   "cell_type": "code",
   "execution_count": 55,
   "metadata": {},
   "outputs": [
    {
     "name": "stdout",
     "output_type": "stream",
     "text": [
      "6\n",
      "1 1 5 5 5 6\n",
      "4\n",
      "1 2 5 6\n",
      "1 0 3 6 "
     ]
    }
   ],
   "source": [
    "def linear_search(lst, key):\n",
    "    i = 0\n",
    "    while i < len(lst) and lst[i] != key:\n",
    "        i+=1\n",
    "    return i\n",
    "\n",
    "n = int(input())\n",
    "A = list(map(int, input().split()))\n",
    "m = int(input())\n",
    "B =  list(map(int, input().split()))\n",
    "\n",
    "for i in range(len(B)):\n",
    "    lb = linear_search(A, B[i])\n",
    "    if lb < len(A) and A[lb] == B[i]:\n",
    "        print(lb + 1, end = ' ')\n",
    "    else:\n",
    "        print(0, end = ' ')\n",
    "    \n"
   ]
  },
  {
   "cell_type": "code",
   "execution_count": 18,
   "metadata": {},
   "outputs": [
    {
     "name": "stdout",
     "output_type": "stream",
     "text": [
      "6\n",
      "1 1 5 5 5 6\n",
      "4\n",
      "1 2 5 6\n",
      "1 0 3 6 "
     ]
    }
   ],
   "source": [
    "n = int(input())\n",
    "A = list(map(int, input().split()))\n",
    "m = int(input())\n",
    "B =  list(map(int, input().split()))\n",
    "\n",
    "def lower_bound(lst, key):\n",
    "    left = -1\n",
    "    right = len(lst)\n",
    "    while left + 1 < right:\n",
    "        middle = (left + right)//2\n",
    "        if lst[middle] >= key:\n",
    "            right = middle\n",
    "        else:\n",
    "            left = middle\n",
    "    return right\n",
    "\n",
    "\n",
    "for i in range(len(B)):\n",
    "    lb = lower_bound(A, B[i])\n",
    "    if lb < len(A) and A[lb] == B[i]:\n",
    "        print(lb+1, end = ' ')\n",
    "    else:\n",
    "        print(0, end = ' ')\n",
    "\n",
    "    \n",
    "          \n",
    "         "
   ]
  },
  {
   "cell_type": "markdown",
   "metadata": {},
   "source": [
    "## Линейный поиск медианного вхождения"
   ]
  },
  {
   "cell_type": "code",
   "execution_count": 36,
   "metadata": {},
   "outputs": [
    {
     "name": "stdout",
     "output_type": "stream",
     "text": [
      "6\n",
      "1 1 5 5 5 6\n",
      "4\n",
      "1 2 5 6\n",
      "1 0 4 6 "
     ]
    }
   ],
   "source": [
    "def linear_search(lst, key):\n",
    "    a = []\n",
    "    i = 0\n",
    "    while i < len(lst):\n",
    "        if lst[i] == key:\n",
    "            a.append(i+1)\n",
    "        i+=1\n",
    "    if len(a) ==0:\n",
    "        return 0\n",
    "    return (a[0] + a[-1])//2\n",
    "n = int(input())\n",
    "A = list(map(int, input().split()))\n",
    "m = int(input())\n",
    "B =  list(map(int, input().split()))\n",
    "for i in range(len(B)):\n",
    "    print(linear_search(A, B[i]), end = ' ')\n",
    "    "
   ]
  },
  {
   "cell_type": "markdown",
   "metadata": {},
   "source": [
    "## бинарный поиск единственного вхождения (все значения А уникальны)"
   ]
  },
  {
   "cell_type": "code",
   "execution_count": 41,
   "metadata": {},
   "outputs": [
    {
     "name": "stdout",
     "output_type": "stream",
     "text": [
      "6\n",
      "1 5 6 7 10 22\n",
      "6\n",
      "1 2 5 6 15 22\n",
      "1 0 2 3 0 6 "
     ]
    }
   ],
   "source": [
    "def binary_search(lst, key):\n",
    "    left = -1\n",
    "    right = len(lst)\n",
    "    while right > left+1:\n",
    "        middle = (left + right)//2\n",
    "        if lst[middle] >= key:\n",
    "            right = middle\n",
    "        else:\n",
    "            left = middle\n",
    "    return right\n",
    "\n",
    "n = int(input())\n",
    "A = list(map(int, input().split()))\n",
    "m = int(input())\n",
    "B =  list(map(int, input().split()))\n",
    "for i in range(len(B)):\n",
    "    el = binary_search(A, B[i])\n",
    "    if el < len(A) and A[el] == B[i]:\n",
    "        print(el + 1, end = ' ')\n",
    "    else:\n",
    "        print(0, end = ' ')"
   ]
  },
  {
   "cell_type": "markdown",
   "metadata": {},
   "source": [
    "## Бинорный поиск медианного вхождения"
   ]
  },
  {
   "cell_type": "code",
   "execution_count": 54,
   "metadata": {},
   "outputs": [
    {
     "name": "stdout",
     "output_type": "stream",
     "text": [
      "6\n",
      "1 1 5 5 5 6\n",
      "4\n",
      "1 2 5 6\n",
      "1 0 4 6 "
     ]
    }
   ],
   "source": [
    "def lower_bound(lst, key):\n",
    "    left = -1\n",
    "    right = len(lst)\n",
    "    while right > left + 1:\n",
    "        middle = (left + right)//2\n",
    "        if lst[middle] >=key:\n",
    "            right = middle\n",
    "        else:\n",
    "            left = middle\n",
    "    return right\n",
    "\n",
    "def upper_bound(lst, key):\n",
    "    left = -1\n",
    "    right = len(lst)\n",
    "    while right > left + 1:\n",
    "        middle = (left + right)//2\n",
    "        if lst[middle] > key:\n",
    "            right = middle\n",
    "        else:\n",
    "            left = middle\n",
    "    return right\n",
    "\n",
    "n = int(input())\n",
    "A = list(map(int, input().split()))\n",
    "m = int(input())\n",
    "B =  list(map(int, input().split()))\n",
    "\n",
    "for i in range(len(B)):\n",
    "    lb = lower_bound(A, B[i])\n",
    "    if lb < len(A) and A[lb] == B[i]:\n",
    "        print((upper_bound(A, B[i]) + lb+1)//2, end = ' ')\n",
    "    else:\n",
    "        print(0, end = ' ')"
   ]
  },
  {
   "cell_type": "markdown",
   "metadata": {},
   "source": [
    "# Бинарный поиск по ответу"
   ]
  },
  {
   "cell_type": "markdown",
   "metadata": {},
   "source": [
    "## Целочисленный квадратный корень\n",
    "$ X^2 \\leq N$"
   ]
  },
  {
   "cell_type": "code",
   "execution_count": 3,
   "metadata": {},
   "outputs": [
    {
     "name": "stdout",
     "output_type": "stream",
     "text": [
      "8\n",
      "2\n"
     ]
    }
   ],
   "source": [
    "n = int(input())\n",
    "left = 1\n",
    "right = n\n",
    "while right > left + 1:\n",
    "    middle = (left + right) //2\n",
    "    if middle **2 <=n:\n",
    "        left = middle\n",
    "    else:\n",
    "        right = middle\n",
    "print(left)"
   ]
  },
  {
   "cell_type": "markdown",
   "metadata": {},
   "source": [
    "## Провода"
   ]
  },
  {
   "cell_type": "code",
   "execution_count": 5,
   "metadata": {},
   "outputs": [
    {
     "name": "stdout",
     "output_type": "stream",
     "text": [
      "4 11\n",
      "802\n",
      "743\n",
      "457\n",
      "539\n",
      "200\n"
     ]
    }
   ],
   "source": [
    "'''Функция для подсчета количества сегментов'''\n",
    "def find_l(A, l):\n",
    "    s = 0\n",
    "    for i in range(len(A)):\n",
    "        s += A[i] // l\n",
    "    return s\n",
    "'''n - кол-во проводов; k - кол-во равных отрезков'''\n",
    "n, k = map(int, input().split())\n",
    "A = []\n",
    "for i in range(n):\n",
    "    A.append(int(input()))\n",
    "''' определяем границы бинарного поиска'''\n",
    "left = 0\n",
    "right = sum(A) // k + 1\n",
    "while right > left + 1:\n",
    "    middle = (left + right) //2\n",
    "    if find_l(A, middle) >=k: # если число сегментов > k\n",
    "        left = middle\n",
    "    else:\n",
    "        right = middle\n",
    "print(left)"
   ]
  },
  {
   "cell_type": "markdown",
   "metadata": {},
   "source": [
    "## Задача про ксероксы"
   ]
  },
  {
   "cell_type": "code",
   "execution_count": 6,
   "metadata": {},
   "outputs": [
    {
     "name": "stdout",
     "output_type": "stream",
     "text": [
      "5 1 2\n",
      "4\n"
     ]
    }
   ],
   "source": [
    "'''\n",
    "n - необходимое кол-во копий;\n",
    "x - время, за которое 1-ый ксерокс копирует 1 страницу;\n",
    "y - время, за которое 2-ой ксерокс копирует 1 страницу\n",
    "'''\n",
    "\n",
    "n, x, y = map(int, input().split())\n",
    "left = 0\n",
    "time = min(x,y)\n",
    "'''\n",
    "right - сколько времени мы потратим, используя самый быстрый принтер\n",
    "n - 1 первую копию считаем отдельно\n",
    "'''\n",
    "right = time * (n-1)\n",
    "while right > left + 1:\n",
    "    middle = (left + right) //2\n",
    "    # middle // x - кол-во страниц, которое ксерокс x скопирует за middle секунд\n",
    "    if middle // x + middle // y >= n-1:\n",
    "        right = middle\n",
    "    else:\n",
    "        left = middle\n",
    "print(right + time) # полученнок время + время на создание 1-ой копии\n",
    "        "
   ]
  },
  {
   "cell_type": "markdown",
   "metadata": {},
   "source": [
    "## Задача про куб"
   ]
  },
  {
   "cell_type": "code",
   "execution_count": 9,
   "metadata": {},
   "outputs": [
    {
     "name": "stdout",
     "output_type": "stream",
     "text": [
      "150\n",
      "5\n"
     ]
    }
   ],
   "source": [
    "n = int(input())\n",
    "left = 1\n",
    "right = n\n",
    "while right > left + 1:\n",
    "    middle = (left + right) //2\n",
    "    if middle ** 3 <= n:\n",
    "        left = middle\n",
    "    else:\n",
    "        right = middle\n",
    "print(left)\n",
    "        "
   ]
  },
  {
   "cell_type": "code",
   "execution_count": 38,
   "metadata": {},
   "outputs": [
    {
     "name": "stdout",
     "output_type": "stream",
     "text": [
      "12\n"
     ]
    },
    {
     "data": {
      "text/plain": [
       "12"
      ]
     },
     "execution_count": 38,
     "metadata": {},
     "output_type": "execute_result"
    }
   ],
   "source": [
    "n = int(input())\n",
    "left = 0\n",
    "right = 10**18\n",
    "while right > left + 1:\n",
    "    middle = (left + right) //2\n",
    "    d = middle - (middle // 13 + middle // 17 - middle // 221)\n",
    "    if d >= n:\n",
    "        right = middle\n",
    "    else:\n",
    "        left = middle\n",
    "right\n"
   ]
  },
  {
   "cell_type": "code",
   "execution_count": null,
   "metadata": {},
   "outputs": [],
   "source": [
    "'''\n",
    "цель - раскидать свободные кирпичи так, чтобы максимизировать минимальные столбики\n",
    "left = 0 right = max(столбик) + m\n",
    "кол-во минимальных столбиков\n",
    "'''"
   ]
  },
  {
   "cell_type": "code",
   "execution_count": 50,
   "metadata": {},
   "outputs": [
    {
     "name": "stdout",
     "output_type": "stream",
     "text": [
      "6\n",
      "1 5 1 5 6 5\n",
      "5\n"
     ]
    },
    {
     "data": {
      "text/plain": [
       "3"
      ]
     },
     "execution_count": 50,
     "metadata": {},
     "output_type": "execute_result"
    }
   ],
   "source": [
    "# решение \"в лоб\"\n",
    "n = int(input())\n",
    "st = map(int, input().split(maxsplit = n-1))\n",
    "m = int(input())\n",
    "lst = list(st)\n",
    "while m >0:\n",
    "    lst[lst.index(min(lst))]+=1\n",
    "    m-=1\n",
    "min(lst)\n",
    "    \n",
    "        "
   ]
  },
  {
   "cell_type": "markdown",
   "metadata": {},
   "source": [
    "# Решение с помощью бинарного поиска по ответу (???????)\n",
    "  3.2 шаг № 10"
   ]
  },
  {
   "attachments": {
    "image.png": {
     "image/png": "[encoded data removed]"
    }
   },
   "cell_type": "markdown",
   "metadata": {},
   "source": [
    "![image.png](attachment:image.png)"
   ]
  },
  {
   "cell_type": "markdown",
   "metadata": {},
   "source": [
    "## Метод двух указателей"
   ]
  },
  {
   "cell_type": "markdown",
   "metadata": {},
   "source": [
    "**Кол-во пар точек, S между которыми $\\geq D$**"
   ]
  },
  {
   "cell_type": "code",
   "execution_count": 63,
   "metadata": {},
   "outputs": [
    {
     "name": "stdout",
     "output_type": "stream",
     "text": [
      "4 4\n",
      "1 3 5 8\n",
      "3\n"
     ]
    }
   ],
   "source": [
    "n, d = map(int, input().split())\n",
    "A = list(map(int, input().split()))\n",
    "i = j = 0\n",
    "c = 0\n",
    "while i < len(A) and j < len(A): # пока не вышли за пределы списка\n",
    "    if A[j] - A[i] < d:\n",
    "        j+=1\n",
    "    else:\n",
    "        c += n-j\n",
    "        i+=1\n",
    "print(c)"
   ]
  },
  {
   "cell_type": "markdown",
   "metadata": {},
   "source": [
    "**Решение задачи с помощью бинарного поиска**"
   ]
  },
  {
   "cell_type": "code",
   "execution_count": 62,
   "metadata": {},
   "outputs": [
    {
     "name": "stdout",
     "output_type": "stream",
     "text": [
      "5 3\n",
      "1 3 6 8 9\n"
     ]
    },
    {
     "data": {
      "text/plain": [
       "7"
      ]
     },
     "execution_count": 62,
     "metadata": {},
     "output_type": "execute_result"
    }
   ],
   "source": [
    "def lower_bound(A, key):\n",
    "    left = -1\n",
    "    right = len(A)\n",
    "    while right > left + 1:\n",
    "        middle = (left + right) //2\n",
    "        if A[middle] >= key:\n",
    "            right = middle\n",
    "        else:\n",
    "            left = middle\n",
    "    return right\n",
    "\n",
    "n, d = map(int, input().split())\n",
    "A = list(map(int, input().split()))\n",
    "c = 0\n",
    "for i in range(len(A)):\n",
    "    j = lower_bound(A, A[i] + d)\n",
    "    if j < n:\n",
    "        c += n-j\n",
    "c"
   ]
  },
  {
   "cell_type": "code",
   "execution_count": 68,
   "metadata": {},
   "outputs": [
    {
     "name": "stdout",
     "output_type": "stream",
     "text": [
      "7 6\n",
      "1 1 5 5 5 5 6\n"
     ]
    },
    {
     "data": {
      "text/plain": [
       "5"
      ]
     },
     "execution_count": 68,
     "metadata": {},
     "output_type": "execute_result"
    }
   ],
   "source": [
    "n, d = map(int, input().split())\n",
    "A = list(map(int, input().split()))\n",
    "c = 0\n",
    "i = 0\n",
    "j = len(A)-1\n",
    "while i<=j:\n",
    "    if A[i] + A[j] > d: # сперва отберем тех людей, которые не влезут в лодку вдвоем даже с самым худым человеком\n",
    "        c+=1\n",
    "        j -=1\n",
    "    else:\n",
    "        c+=1\n",
    "        i+=1\n",
    "        j-=1\n",
    "print(c)\n",
    "        "
   ]
  },
  {
   "cell_type": "code",
   "execution_count": 72,
   "metadata": {},
   "outputs": [
    {
     "name": "stdout",
     "output_type": "stream",
     "text": [
      "9 5\n",
      "3 7 2 5 1 1 4 2\n",
      "29\n"
     ]
    }
   ],
   "source": [
    "n, d = map(int, input().split())\n",
    "A = list(map(int, input().split()))\n",
    "lst = [0]\n",
    "for i in range(len(A)):\n",
    "    lst.append(lst[-1]+A[i])\n",
    "i = j = 0\n",
    "c = 0\n",
    "while i < len(lst) and j < len(lst):\n",
    "    if lst[j] - lst[i] < d:\n",
    "        j+=1\n",
    "    else:\n",
    "        c += n - j\n",
    "        i+=1\n",
    "print(c)\n",
    "    "
   ]
  },
  {
   "cell_type": "markdown",
   "metadata": {},
   "source": [
    "# Контест"
   ]
  },
  {
   "cell_type": "markdown",
   "metadata": {},
   "source": [
    "## Задача про штрафы"
   ]
  },
  {
   "cell_type": "code",
   "execution_count": 74,
   "metadata": {},
   "outputs": [
    {
     "name": "stdout",
     "output_type": "stream",
     "text": [
      "\n"
     ]
    }
   ],
   "source": [
    "'''\n",
    "Что значат переменные?\n",
    "\n",
    "n - размер таблицы штрафов (градация штрафов);\n",
    "m - количество зафиксированных машин;\n",
    "d - расстояние между 2-мя камерами (т.е длина трассы);\n",
    "s - максимально разрешенная скорость\n",
    "'''\n",
    "\n",
    "'''\n",
    "Что значат списки?\n",
    "\n",
    "A - пороги превышения скорости\n",
    "B - размеры штрафов\n",
    "\n",
    "Что это значит? Допустим, лимит скорости = 60\n",
    "0 20 100, size = N-1\n",
    "0 10 100 1000, size = N\n",
    "средняя скорость до 60 км/ч штраф = 0\n",
    "средняя скорость от 60 до 80 км/ч штраф = 10 руб\n",
    "средняя скорость от 80 до 160 км/ч штраф = 100 руб\n",
    "средняя скорость более 160 км/ч штраф = 1000 руб\n",
    "\n",
    "T - время, за которое машина проезжает трассу, size = m\n",
    "т.е средняя скорость рассчитывается, как S/T\n",
    "'''\n",
    "'''\n",
    "Для каждой машины определить размер штрафа\n",
    "'''"
   ]
  },
  {
   "cell_type": "code",
   "execution_count": 150,
   "metadata": {},
   "outputs": [
    {
     "name": "stdout",
     "output_type": "stream",
     "text": [
      "4 6 1200 60\n",
      "0 20 100\n",
      "0 10 100 1000\n",
      "40 20 5 10 15 17\n",
      "0\n",
      "0\n",
      "1000\n",
      "100\n",
      "10\n",
      "10\n"
     ]
    }
   ],
   "source": [
    "n, m, d, s = map(int, input().split())\n",
    "A = list(map(int, input().split()))\n",
    "B = list(map(int, input().split()))\n",
    "T = list(map(int, input().split()))\n",
    "'''рассчитаем значения средней скорости для каждой машины'''\n",
    "M = []\n",
    "for i in T:\n",
    "    M.append(d/i)\n",
    "'''для значения скорости определим величину штрафа'''\n",
    "def fine(A, B, speed, limit):\n",
    "    delta = speed - limit\n",
    "    left = -1\n",
    "    right = len(B) - 1\n",
    "    while right > left + 1:\n",
    "        middle = (left + right)//2\n",
    "        if delta > A[middle]:\n",
    "            left = middle\n",
    "        else:\n",
    "            right = middle\n",
    "    return B[right]\n",
    "for i in M:\n",
    "    print(fine(A, B, i, s), end = ' ')\n"
   ]
  },
  {
   "cell_type": "markdown",
   "metadata": {},
   "source": [
    "## Задача про муравейник"
   ]
  },
  {
   "cell_type": "code",
   "execution_count": null,
   "metadata": {},
   "outputs": [],
   "source": [
    "'''\n",
    "n - кол-во муравьёв;\n",
    "s - как только в муравейнике оказалось >= s мг пищи, муравьи прекращают бежать за новой едой;\n",
    "t_i - время 1 рейса для i муравья; size = n\n",
    "w_i - кол-во пищи, которое i муравей приносит за 1 рейс; size = n\n",
    "'''\n",
    "\n",
    "n, s = map(int, input().split())\n",
    "t = list(map(int, input().split()))\n",
    "w = list(map(int, input().split()))\n",
    "\n",
    "summ = 0\n",
    "sek = min(t)\n",
    "while summ <=s\n",
    "for i in range(len(t)):\n",
    "    if t <= sek:\n",
    "        summ += w[i]"
   ]
  },
  {
   "cell_type": "code",
   "execution_count": 45,
   "metadata": {},
   "outputs": [
    {
     "data": {
      "text/plain": [
       "12"
      ]
     },
     "execution_count": 45,
     "metadata": {},
     "output_type": "execute_result"
    }
   ],
   "source": [
    "def calculate_food_mass(n, t, w, s):\n",
    "    total_food = 0\n",
    "\n",
    "    for i in range(n):\n",
    "        ti = t[i]\n",
    "        wi = w[i]\n",
    "        \n",
    "        num_trips = s // wi\n",
    "        total_time = ti * num_trips\n",
    "        total_food += num_trips * wi\n",
    "\n",
    "    return total_food\n",
    "n = 3\n",
    "s = 6\n",
    "t = [1,1,3]\n",
    "w = [1,2,100000]\n",
    "calculate_food_mass(n, t, w, s)"
   ]
  },
  {
   "cell_type": "code",
   "execution_count": 52,
   "metadata": {},
   "outputs": [
    {
     "data": {
      "text/plain": [
       "[(1, 1), (1, 2), (3, 100000)]"
      ]
     },
     "execution_count": 52,
     "metadata": {},
     "output_type": "execute_result"
    }
   ],
   "source": [
    "t = [1,1,3]\n",
    "w = [1,2,100000]\n",
    "\n",
    "t_w = [(t[i],w[i]) for i in range(len(t))] # склеиваем 2 списка\n",
    "t_w.sort(key = lambda x: x[0]) # сортируем их по возрастанию времени\n",
    "t_sort = [i[0] for i in t_w] # разъединяем\n",
    "w_sort = [i[1] for i in t_w]\n",
    "\n"
   ]
  },
  {
   "cell_type": "code",
   "execution_count": 63,
   "metadata": {},
   "outputs": [
    {
     "data": {
      "text/plain": [
       "[(5, 83725),\n",
       " (10, 27240),\n",
       " (13, 49646),\n",
       " (15, 61051),\n",
       " (16, 90827),\n",
       " (18, 47666),\n",
       " (25, 84580),\n",
       " (28, 54014),\n",
       " (34, 57828),\n",
       " (37, 71552),\n",
       " (39, 51728),\n",
       " (41, 18928),\n",
       " (46, 11088),\n",
       " (48, 69965),\n",
       " (50, 49579),\n",
       " (52, 86713),\n",
       " (77, 75184),\n",
       " (82, 97709),\n",
       " (88, 864),\n",
       " (95, 5042)]"
      ]
     },
     "execution_count": 63,
     "metadata": {},
     "output_type": "execute_result"
    }
   ],
   "source": [
    "tw = [(39, 51728),\n",
    "(50, 49579),\n",
    "(15, 61051),\n",
    "(48, 69965),\n",
    "(34, 57828),\n",
    "(10, 27240),\n",
    "(18, 47666),\n",
    "(5, 83725),\n",
    "(82, 97709),\n",
    "(88, 864),\n",
    "(77, 75184),\n",
    "(46, 11088),\n",
    "(41, 18928),\n",
    "(52, 86713),\n",
    "(25, 84580),\n",
    "(37, 71552),\n",
    "(28, 54014),\n",
    "(16, 90827),\n",
    "(13, 49646),\n",
    "(95, 5042)]\n",
    "tw.sort(key = lambda x: x[0]) # сортируем их по возрастанию времени\n",
    "t_sort = [i[0] for i in tw] # разъединяем\n",
    "w_sort = [i[1] for i in tw]\n",
    "tw"
   ]
  },
  {
   "cell_type": "code",
   "execution_count": 64,
   "metadata": {},
   "outputs": [
    {
     "data": {
      "text/plain": [
       "100003"
      ]
     },
     "execution_count": 64,
     "metadata": {},
     "output_type": "execute_result"
    }
   ],
   "source": [
    "sum(w)"
   ]
  },
  {
   "cell_type": "code",
   "execution_count": 57,
   "metadata": {},
   "outputs": [
    {
     "name": "stdout",
     "output_type": "stream",
     "text": [
      "[(1, 1), (1, 2), (3, 100000)]\n"
     ]
    }
   ],
   "source": [
    "t_w.sort(key = lambda x: x[0])\n",
    "print(t_w)"
   ]
  },
  {
   "cell_type": "code",
   "execution_count": 60,
   "metadata": {},
   "outputs": [],
   "source": [
    "t_sort = [i[0] for i in t_w]\n",
    "w_sort = [i[1] for i in t_w]"
   ]
  },
  {
   "cell_type": "markdown",
   "metadata": {},
   "source": [
    "## Расстояние между 2-мя деревьями = D"
   ]
  },
  {
   "cell_type": "code",
   "execution_count": 44,
   "metadata": {},
   "outputs": [
    {
     "name": "stdout",
     "output_type": "stream",
     "text": [
      "10 82\n",
      "23 15 7 3 34 18 95 73 99\n",
      "1 6\n"
     ]
    }
   ],
   "source": [
    "n, d = map(int, input().split())\n",
    "A = list(map(int, input().split()))\n",
    "lst = [0]\n",
    "for i in range(len(A)):\n",
    "    lst.append(lst[-1]+A[i])\n",
    "#print(lst)\n",
    "i = j = 0\n",
    "while i < len(lst) and j < len(lst):\n",
    "    if lst[j] - lst[i] < d:\n",
    "        j+=1\n",
    "    elif lst[j] - lst[i] == d:\n",
    "        print(i+1, j+1)\n",
    "        break\n",
    "    else:\n",
    "        i+=1"
   ]
  },
  {
   "cell_type": "code",
   "execution_count": 4,
   "metadata": {},
   "outputs": [
    {
     "data": {
      "text/plain": [
       "[1, 2, 3, 6, 4, 5]"
      ]
     },
     "execution_count": 4,
     "metadata": {},
     "output_type": "execute_result"
    }
   ],
   "source": [
    "a = [1,2,3,4,5]\n",
    "a.insert(3, 6)\n",
    "a"
   ]
  },
  {
   "cell_type": "code",
   "execution_count": 6,
   "metadata": {},
   "outputs": [
    {
     "data": {
      "text/plain": [
       "[5, 7, 1, 7, 2, 1000, 6, 2]"
      ]
     },
     "execution_count": 6,
     "metadata": {},
     "output_type": "execute_result"
    }
   ],
   "source": [
    "a = [5,7,1,7,2,6,2]\n",
    "a.insert(5, 1000)\n",
    "a"
   ]
  },
  {
   "cell_type": "markdown",
   "metadata": {},
   "source": [
    "# Задача про буфет"
   ]
  },
  {
   "attachments": {
    "image.png": {
     "image/png": "[encoded data removed]"
    }
   },
   "cell_type": "markdown",
   "metadata": {},
   "source": [
    "![image.png](attachment:image.png)"
   ]
  },
  {
   "cell_type": "markdown",
   "metadata": {},
   "source": [
    "**Не прошло по времени**"
   ]
  },
  {
   "cell_type": "code",
   "execution_count": 56,
   "metadata": {},
   "outputs": [
    {
     "name": "stdout",
     "output_type": "stream",
     "text": [
      "10\n",
      "0 1 0 1 3 5 4 1 2 7\n",
      "3 5 6 1 8 4 7 10 2 9\n"
     ]
    }
   ],
   "source": [
    "n = int(input())\n",
    "ind = list(range(n))\n",
    "process = list(map(int, input().split()))\n",
    "res = [0]\n",
    "for i in range(len(ind)):\n",
    "    res.insert(res.index(process[i])+1,i+1)\n",
    "print(*res[1:])"
   ]
  },
  {
   "cell_type": "markdown",
   "metadata": {},
   "source": [
    "**Эффективное решение**"
   ]
  },
  {
   "cell_type": "code",
   "execution_count": 60,
   "metadata": {},
   "outputs": [
    {
     "name": "stdout",
     "output_type": "stream",
     "text": [
      "10\n",
      "0 1 0 1 3 5 4 1 2 7\n",
      "3 5 6 1 8 4 7 10 2 9 "
     ]
    }
   ],
   "source": [
    "n = int(input())\n",
    "process = list(map(int, input().split()))\n",
    "res = [-1] * (n+1)\n",
    "for i in range(n):\n",
    "    res[i+1], res[process[i]] = res[process[i]], i\n",
    "while res[0] != -1: \n",
    "    print(res[0] + 1, end=\" \")\n",
    "    res[0] = res[res[0] + 1]"
   ]
  },
  {
   "cell_type": "markdown",
   "metadata": {},
   "source": [
    "# Стеки"
   ]
  },
  {
   "cell_type": "code",
   "execution_count": 7,
   "metadata": {},
   "outputs": [
    {
     "name": "stdout",
     "output_type": "stream",
     "text": [
      "2\n"
     ]
    }
   ],
   "source": [
    "stack = []\n",
    "\n",
    "def push(val):\n",
    "    return stack.append(val)\n",
    "\n",
    "def pop():\n",
    "    return stack.pop()\n",
    "\n",
    "def size():\n",
    "    return len(stack)\n",
    "\n",
    "def is_empty():\n",
    "    return len(stack) == 0\n",
    "\n",
    "def top():\n",
    "    if not is_empty():\n",
    "        return stack[-1]\n",
    "    \n",
    "def clear():\n",
    "    stack[:] = []\n",
    "\n",
    "    \n",
    "push(2)\n",
    "push(3)\n",
    "push(4)\n",
    "push(2)\n",
    "print(pop())"
   ]
  },
  {
   "cell_type": "code",
   "execution_count": 8,
   "metadata": {},
   "outputs": [
    {
     "data": {
      "text/plain": [
       "[2, 3, 4]"
      ]
     },
     "execution_count": 8,
     "metadata": {},
     "output_type": "execute_result"
    }
   ],
   "source": [
    "stack"
   ]
  },
  {
   "cell_type": "code",
   "execution_count": 1,
   "metadata": {},
   "outputs": [
    {
     "name": "stdout",
     "output_type": "stream",
     "text": [
      "19\n",
      "9 0 0 1 0 0 5 0 3 0 1 1 0 3 2 7 0 1 2\n"
     ]
    }
   ],
   "source": [
    "n = int(input())\n",
    "lst = list(map(int, input().split()))\n"
   ]
  },
  {
   "cell_type": "code",
   "execution_count": 2,
   "metadata": {},
   "outputs": [
    {
     "data": {
      "text/plain": [
       "[9, 0, 0, 1, 0, 0, 5, 0, 3, 0, 1, 1, 0, 3, 2, 7, 0, 1, 2]"
      ]
     },
     "execution_count": 2,
     "metadata": {},
     "output_type": "execute_result"
    }
   ],
   "source": [
    "stack"
   ]
  },
  {
   "cell_type": "code",
   "execution_count": 3,
   "metadata": {},
   "outputs": [],
   "source": [
    "def push(val):\n",
    "    return stack.append(val)\n",
    "\n",
    "def pop():\n",
    "    return stack.pop()\n",
    "\n",
    "def size():\n",
    "    return len(stack)\n",
    "\n",
    "def is_empty():\n",
    "    return len(stack) == 0\n",
    "\n",
    "def top():\n",
    "    if not is_empty():\n",
    "        return stack[-1]\n",
    "    \n",
    "def clear():\n",
    "    stack[:] = []"
   ]
  },
  {
   "cell_type": "code",
   "execution_count": 19,
   "metadata": {},
   "outputs": [
    {
     "name": "stdout",
     "output_type": "stream",
     "text": [
      "19\n",
      "9 0 0 1 0 0 5 0 3 0 1 1 0 3 2 7 0 1 2\n",
      "3\n"
     ]
    }
   ],
   "source": [
    "n = int(input())\n",
    "lst = list(map(int, input().split()))\n",
    "ind = 1\n",
    "while ind < len(lst):\n",
    "    cur = lst[ind]\n",
    "    if cur == 0:\n",
    "        ind+=1\n",
    "    else:\n",
    "        lst[ind-cur:ind] = [-1] * cur\n",
    "        ind+=1\n",
    "print(len([i for i in lst if i >= 0]))\n",
    "\n",
    "        \n",
    "    \n",
    "    \n",
    "    "
   ]
  },
  {
   "cell_type": "markdown",
   "metadata": {},
   "source": [
    "## Строгий минимум на отрезке"
   ]
  },
  {
   "cell_type": "code",
   "execution_count": null,
   "metadata": {},
   "outputs": [],
   "source": [
    "n = int(input())\n",
    "lst = [3,4,2,0,2,5,4,3,10,1]\n",
    "m = lst[0]\n",
    "for i in range(len(lst)):\n",
    "    if lst[i] < lst[i+1]\n",
    "    \n",
    "    "
   ]
  },
  {
   "cell_type": "code",
   "execution_count": 77,
   "metadata": {},
   "outputs": [],
   "source": [
    "def left_bound(elem):\n",
    "    ind = elem - 1\n",
    "    while ind > 0:\n",
    "        if lst[elem] < lst[ind]:\n",
    "            ind = ind - 1\n",
    "        else:\n",
    "            return ind\n",
    "\n",
    "            \n",
    "            \n",
    "    \n",
    "    \n",
    "    \n",
    "lst = [3,4,2,0,2,5,4,3,10,1]\n",
    "left_bound(3)\n",
    "        \n",
    "        \n",
    "    \n",
    "        "
   ]
  },
  {
   "cell_type": "code",
   "execution_count": null,
   "metadata": {},
   "outputs": [],
   "source": []
  },
  {
   "cell_type": "code",
   "execution_count": null,
   "metadata": {},
   "outputs": [],
   "source": []
  },
  {
   "cell_type": "code",
   "execution_count": null,
   "metadata": {},
   "outputs": [],
   "source": []
  },
  {
   "cell_type": "code",
   "execution_count": null,
   "metadata": {},
   "outputs": [],
   "source": []
  },
  {
   "cell_type": "code",
   "execution_count": null,
   "metadata": {},
   "outputs": [],
   "source": []
  },
  {
   "cell_type": "code",
   "execution_count": null,
   "metadata": {},
   "outputs": [],
   "source": []
  },
  {
   "cell_type": "code",
   "execution_count": null,
   "metadata": {},
   "outputs": [],
   "source": []
  },
  {
   "cell_type": "code",
   "execution_count": null,
   "metadata": {},
   "outputs": [],
   "source": []
  },
  {
   "cell_type": "markdown",
   "metadata": {},
   "source": [
    "# Игрулька :)"
   ]
  },
  {
   "cell_type": "code",
   "execution_count": 61,
   "metadata": {},
   "outputs": [],
   "source": [
    "import numpy as np"
   ]
  },
  {
   "cell_type": "code",
   "execution_count": 83,
   "metadata": {},
   "outputs": [
    {
     "data": {
      "text/plain": [
       "'бирка'"
      ]
     },
     "execution_count": 83,
     "metadata": {},
     "output_type": "execute_result"
    }
   ],
   "source": [
    "lst = np.array(['бирка', 'кошка', 'паром', 'капот', 'пилка'])\n",
    "a = np.random.choice(lst,1)[0]\n",
    "a"
   ]
  },
  {
   "cell_type": "code",
   "execution_count": 84,
   "metadata": {},
   "outputs": [
    {
     "name": "stdout",
     "output_type": "stream",
     "text": [
      "кошка\n",
      "[1, 0, 0, 2, 2]\n",
      "try again\n",
      "бирка\n",
      "[2, 2, 2, 2, 2]\n",
      "you win\n"
     ]
    }
   ],
   "source": [
    "c = 0\n",
    "while c<=6:\n",
    "    word = str(input())\n",
    "    lst = []\n",
    "    for i in range(len(word)):\n",
    "        if str(word[i]) in a and str(word[i]) == a[i]:\n",
    "            lst.append(2)\n",
    "        elif str(word[i]) in a and str(word[i]) != a[i]:\n",
    "            lst.append(1)\n",
    "        else:\n",
    "            lst.append(0)\n",
    "    print(lst)\n",
    "    c+=1\n",
    "    if sum(lst) == 10:\n",
    "        print('you win')\n",
    "        break\n",
    "    else:\n",
    "        print('try again')\n",
    "if c>6:\n",
    "    print('you lose')\n",
    "    print(a)\n",
    "    "
   ]
  },
  {
   "cell_type": "code",
   "execution_count": null,
   "metadata": {},
   "outputs": [],
   "source": []
  }
 ],
 "metadata": {
  "kernelspec": {
   "display_name": "Python 3 (ipykernel)",
   "language": "python",
   "name": "python3"
  },
  "language_info": {
   "codemirror_mode": {
    "name": "ipython",
    "version": 3
   },
   "file_extension": ".py",
   "mimetype": "text/x-python",
   "name": "python",
   "nbconvert_exporter": "python",
   "pygments_lexer": "ipython3",
   "version": "3.10.9"
  }
 },
 "nbformat": 4,
 "nbformat_minor": 4
}
